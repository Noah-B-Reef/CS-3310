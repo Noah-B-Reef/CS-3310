{
 "cells": [
  {
   "cell_type": "code",
   "execution_count": 1,
   "metadata": {},
   "outputs": [],
   "source": [
    "# import required libraries\n",
    "import numpy as np"
   ]
  },
  {
   "cell_type": "code",
   "execution_count": 10,
   "metadata": {},
   "outputs": [],
   "source": [
    "# generate random matricies A and B\n",
    "n = 2\n",
    "A = np.random.randint(0, 10, size=(n, n))\n",
    "B = np.random.randint(0, 10, size=(n, n))"
   ]
  },
  {
   "cell_type": "code",
   "execution_count": 17,
   "metadata": {},
   "outputs": [],
   "source": [
    "A = np.array([[1, 2], [3, 4]])\n",
    "B = np.array([[5, 6], [7, 8]])\n",
    "\n",
    "# A*B = [[19,22]],[43,50]]"
   ]
  },
  {
   "cell_type": "code",
   "execution_count": 6,
   "metadata": {},
   "outputs": [],
   "source": [
    "# Standard Matrix Multiplication\n",
    "def standard_matrix_multiplication(A, B):\n",
    "    C = np.zeros((n, n))\n",
    "    for i in range(n):\n",
    "        for j in range(n):\n",
    "            for k in range(n):\n",
    "                C[i][j] += A[i][k] * B[k][j]\n",
    "\n",
    "    return C"
   ]
  },
  {
   "cell_type": "code",
   "execution_count": 22,
   "metadata": {},
   "outputs": [],
   "source": [
    "# Divide and Conquer Matrix Multiplication\n",
    "def divide_and_conquer_matrix_multiplication(A, B):\n",
    "    n = len(A)\n",
    "\n",
    "    # scalar case\n",
    "    if n == 1:\n",
    "        return A * B\n",
    "\n",
    "    # spliti matrix A\n",
    "    A11 = A[:n//2, :n//2]\n",
    "    A12 = A[:n//2, n//2:]\n",
    "    A21 = A[n//2:, :n//2]\n",
    "    A22 = A[n//2:, n//2:]\n",
    "\n",
    "    # split matrix B\n",
    "    B11 = B[:n//2, :n//2]\n",
    "    B12 = B[:n//2, n//2:]\n",
    "    B21 = B[n//2:, :n//2]\n",
    "    B22 = B[n//2:, n//2:]\n",
    "\n",
    "    # calculate C11, C12, C21, C22\n",
    "    C11 = divide_and_conquer_matrix_multiplication(A11, B11) + divide_and_conquer_matrix_multiplication(A12, B21)\n",
    "    C12 = divide_and_conquer_matrix_multiplication(A11, B12) + divide_and_conquer_matrix_multiplication(A12, B22)\n",
    "    C21 = divide_and_conquer_matrix_multiplication(A21, B11) + divide_and_conquer_matrix_multiplication(A22, B21)\n",
    "    C22 = divide_and_conquer_matrix_multiplication(A21, B12) + divide_and_conquer_matrix_multiplication(A22, B22)\n",
    "\n",
    "    # combine C11, C12, C21, C22 into a single matrix C and return\n",
    "    C = np.zeros((n, n))\n",
    "    C[:n//2, :n//2] = C11\n",
    "    C[:n//2, n//2:] = C12\n",
    "    C[n//2:, :n//2] = C21\n",
    "    C[n//2:, n//2:] = C22\n",
    "\n",
    "    return C"
   ]
  },
  {
   "cell_type": "code",
   "execution_count": null,
   "metadata": {},
   "outputs": [],
   "source": [
    "# Strassen's Matrix Multiplication\n",
    "def strassen_matrix_multiplication(A, B):\n",
    "    \n",
    "    "
   ]
  },
  {
   "cell_type": "code",
   "execution_count": 23,
   "metadata": {},
   "outputs": [
    {
     "data": {
      "text/plain": [
       "array([[19., 22.],\n",
       "       [43., 50.]])"
      ]
     },
     "execution_count": 23,
     "metadata": {},
     "output_type": "execute_result"
    }
   ],
   "source": [
    "divide_and_conquer_matrix_multiplication(A,B)"
   ]
  }
 ],
 "metadata": {
  "kernelspec": {
   "display_name": "Python 3.11.3 64-bit",
   "language": "python",
   "name": "python3"
  },
  "language_info": {
   "codemirror_mode": {
    "name": "ipython",
    "version": 3
   },
   "file_extension": ".py",
   "mimetype": "text/x-python",
   "name": "python",
   "nbconvert_exporter": "python",
   "pygments_lexer": "ipython3",
   "version": "3.11.3"
  },
  "orig_nbformat": 4,
  "vscode": {
   "interpreter": {
    "hash": "b0fa6594d8f4cbf19f97940f81e996739fb7646882a419484c72d19e05852a7e"
   }
  }
 },
 "nbformat": 4,
 "nbformat_minor": 2
}
